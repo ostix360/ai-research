{
 "cells": [
  {
   "cell_type": "markdown",
   "source": [
    "# Peft Test"
   ],
   "metadata": {
    "collapsed": false
   },
   "id": "83f42c1cc0c6a736"
  },
  {
   "cell_type": "markdown",
   "source": [
    "### 1. Importing Libraries"
   ],
   "metadata": {
    "collapsed": false
   },
   "id": "de558d9d86c23883"
  },
  {
   "cell_type": "code",
   "execution_count": 1,
   "id": "initial_id",
   "metadata": {
    "collapsed": true,
    "ExecuteTime": {
     "end_time": "2023-12-14T21:08:12.630710600Z",
     "start_time": "2023-12-14T21:08:08.622395400Z"
    }
   },
   "outputs": [],
   "source": [
    "import peft\n",
    "from transformers import AutoTokenizer, AutoModelForCausalLM"
   ]
  },
  {
   "cell_type": "markdown",
   "source": [
    "### 2. Loading Model"
   ],
   "metadata": {
    "collapsed": false
   },
   "id": "47c9f61df7ee90e7"
  },
  {
   "cell_type": "code",
   "execution_count": 2,
   "outputs": [
    {
     "name": "stderr",
     "output_type": "stream",
     "text": [
      "The model is automatically converting to bf16 for faster inference. If you want to disable the automatic precision, please manually add bf16/fp16/fp32=True to \"AutoModelForCausalLM.from_pretrained\".\n",
      "Try importing flash-attention for faster inference...\n"
     ]
    },
    {
     "data": {
      "text/plain": "Loading checkpoint shards:   0%|          | 0/2 [00:00<?, ?it/s]",
      "application/vnd.jupyter.widget-view+json": {
       "version_major": 2,
       "version_minor": 0,
       "model_id": "0cd0d5feafda4c7ba46e4b80297a3f16"
      }
     },
     "metadata": {},
     "output_type": "display_data"
    }
   ],
   "source": [
    "tokenizer = AutoTokenizer.from_pretrained(\"Qwen/Qwen-1_8B\", trust_remote_code=True)\n",
    "\n",
    "model = AutoModelForCausalLM.from_pretrained(\"Qwen/Qwen-1_8B\", trust_remote_code=True)"
   ],
   "metadata": {
    "collapsed": false,
    "ExecuteTime": {
     "end_time": "2023-12-14T21:08:54.886554200Z",
     "start_time": "2023-12-14T21:08:12.632728Z"
    }
   },
   "id": "3e6d187aebe48396"
  }
 ],
 "metadata": {
  "kernelspec": {
   "display_name": "Python 3",
   "language": "python",
   "name": "python3"
  },
  "language_info": {
   "codemirror_mode": {
    "name": "ipython",
    "version": 2
   },
   "file_extension": ".py",
   "mimetype": "text/x-python",
   "name": "python",
   "nbconvert_exporter": "python",
   "pygments_lexer": "ipython2",
   "version": "2.7.6"
  }
 },
 "nbformat": 4,
 "nbformat_minor": 5
}
